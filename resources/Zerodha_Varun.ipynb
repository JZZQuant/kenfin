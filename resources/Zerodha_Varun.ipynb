{
 "cells": [
  {
   "cell_type": "code",
   "execution_count": null,
   "metadata": {},
   "outputs": [],
   "source": [
    "from kiteconnect import KiteConnect\n",
    "import pandas as pd\n",
    "from datetime import date\n",
    "api_key=\"zka582z590jag8yh\"\n",
    "\n",
    "secret_key=\"9zdlmklim6rsakd2fkhay59hybsm5mw6\"\n",
    "\n",
    "kite = KiteConnect(api_key,secret_key)\n",
    "\n",
    "print(kite.login_url())\n"
   ]
  },
  {
   "cell_type": "raw",
   "metadata": {},
   "source": [
    "# code to fetch the request token\n",
    "import urllib.request\n",
    "\n",
    "fp = urllib.request.urlopen(str(kite.login_url()))\n",
    "mybytes = fp.read()\n",
    "\n",
    "mystr = mybytes.decode(\"utf8\")\n",
    "fp.close()\n",
    "\n",
    "print(mystr)"
   ]
  },
  {
   "cell_type": "code",
   "execution_count": null,
   "metadata": {},
   "outputs": [],
   "source": [
    "import datetime as dt\n"
   ]
  },
  {
   "cell_type": "code",
   "execution_count": null,
   "metadata": {},
   "outputs": [],
   "source": [
    "data = kite.generate_session(api_secret=secret_key,request_token=\"PnLBl662QC0l317cIl7lcqJLr7CNs5ia\")\n",
    "kite.set_access_token(data[\"access_token\"])\n",
    "\n",
    "\n",
    "access_token=data[\"access_token\"]\n",
    "public_token= data[\"public_token\"]\n",
    "user_id= data[\"user_id\"]\n"
   ]
  },
  {
   "cell_type": "code",
   "execution_count": null,
   "metadata": {},
   "outputs": [],
   "source": [
    "data"
   ]
  },
  {
   "cell_type": "code",
   "execution_count": null,
   "metadata": {},
   "outputs": [],
   "source": [
    "from datetime import datetime, timedelta\n",
    "## Getting Historical data\n",
    "\n",
    "\n",
    "NSE_data= kite.instruments(exchange=\"NSE\")\n",
    "\n",
    "print(NSE_data)\n",
    "\n",
    "\n",
    "NFO_data= kite.instruments(\"NFO\")\n"
   ]
  },
  {
   "cell_type": "code",
   "execution_count": null,
   "metadata": {},
   "outputs": [],
   "source": [
    "fut_s={}\n",
    "for i in range(len(NFO_data)):\n",
    "    if((NFO_data[i][\"tradingsymbol\"].startswith(\"ICICI\"))&(NFO_data[i]['instrument_type']=='FUT')):\n",
    "        fut_s[NFO_data[i][\"expiry\"]]=NFO_data[i][\"instrument_token\"]\n",
    "        \n",
    "instrument_token=fut_s[max(fut_s.keys())]"
   ]
  },
  {
   "cell_type": "code",
   "execution_count": null,
   "metadata": {},
   "outputs": [],
   "source": [
    "fut_s"
   ]
  },
  {
   "cell_type": "code",
   "execution_count": null,
   "metadata": {},
   "outputs": [],
   "source": [
    "instrument_token"
   ]
  },
  {
   "cell_type": "code",
   "execution_count": null,
   "metadata": {},
   "outputs": [],
   "source": [
    "N=20\n",
    "from_date=(datetime.now() - timedelta(days=N))#.strftime('%Y-%m-%d')\n",
    "to_date=datetime.today()#.strftime('%Y-%m-%d')\n",
    "\n",
    "interval=\"minute\"\n",
    "contract={}\n",
    "for i in range(len(NFO_data)):\n",
    "    if((NFO_data[i][\"instrument_token\"]==instrument_token)):\n",
    "        contract=NFO_data[i]\n",
    "        print(NFO_data[i])"
   ]
  },
  {
   "cell_type": "markdown",
   "metadata": {},
   "source": [
    "k=NFO_data[i]['tradingsymbol']"
   ]
  },
  {
   "cell_type": "markdown",
   "metadata": {},
   "source": [
    "import itertools\n",
    "[\"\".join(x) for _, x in itertools.groupby(NFO_data[i]['tradingsymbol'], key=str.isdigit)][0]"
   ]
  },
  {
   "cell_type": "code",
   "execution_count": null,
   "metadata": {},
   "outputs": [],
   "source": [
    "from_date,to_date"
   ]
  },
  {
   "cell_type": "code",
   "execution_count": null,
   "metadata": {},
   "outputs": [],
   "source": [
    "df=kite.historical_data(instrument_token=instrument_token,from_date=from_date,to_date=to_date,interval=interval, continuous=0)"
   ]
  },
  {
   "cell_type": "code",
   "execution_count": null,
   "metadata": {},
   "outputs": [],
   "source": [
    "df=pd.DataFrame(df)\n",
    "df.set_index('date',inplace=True)"
   ]
  },
  {
   "cell_type": "code",
   "execution_count": null,
   "metadata": {},
   "outputs": [],
   "source": [
    "df.tail()"
   ]
  },
  {
   "cell_type": "code",
   "execution_count": null,
   "metadata": {},
   "outputs": [],
   "source": [
    "df.to_csv(\"{}.csv\".format(contract['tradingsymbol']))"
   ]
  },
  {
   "cell_type": "code",
   "execution_count": null,
   "metadata": {},
   "outputs": [],
   "source": [
    "try:\n",
    "    df = pd.read_csv(\"{}.csv\".format(contract['tradingsymbol']))\n",
    "    last_index=df.date.iloc[-1]\n",
    "    last_index=last_index[:-6]\n",
    "    last_index\n",
    "except:\n",
    "     with open(\"{}.csv\".format(contract['tradingsymbol']), 'wb') as f:\n",
    "            f.close()"
   ]
  },
  {
   "cell_type": "code",
   "execution_count": null,
   "metadata": {},
   "outputs": [],
   "source": [
    "last_index=pd.to_datetime(last_index) "
   ]
  },
  {
   "cell_type": "code",
   "execution_count": null,
   "metadata": {},
   "outputs": [],
   "source": [
    "last_index"
   ]
  },
  {
   "cell_type": "code",
   "execution_count": null,
   "metadata": {},
   "outputs": [],
   "source": [
    "import time\n",
    "while True :\n",
    "    if ((datetime.now().hour <16) & (datetime.now().minute<30)): \n",
    "        if datetime.now().second//60 ==0:\n",
    "            try:\n",
    "                from_date=last_index\n",
    "                to_date= datetime.now()\n",
    "                next_data=kite.historical_data(instrument_token=instrument_token,from_date=from_date,to_date=to_date,interval=interval, continuous=0)\n",
    "                next_dataframe=pd.DataFrame(next_data)\n",
    "                next_dataframe.set_index('date',inplace=True)\n",
    "                df.append(next_dataframe[1:])\n",
    "            except:\n",
    "                time.sleep(1)\n",
    "                continue\n",
    "        else:\n",
    "            time.sleep(1)\n",
    "    else:\n",
    "        break"
   ]
  },
  {
   "cell_type": "code",
   "execution_count": null,
   "metadata": {},
   "outputs": [],
   "source": [
    "df.to_csv(\"{}.csv\".format(contract['tradingsymbol']))"
   ]
  },
  {
   "cell_type": "code",
   "execution_count": null,
   "metadata": {},
   "outputs": [],
   "source": [
    "df"
   ]
  },
  {
   "cell_type": "code",
   "execution_count": null,
   "metadata": {},
   "outputs": [],
   "source": [
    "next_data"
   ]
  },
  {
   "cell_type": "code",
   "execution_count": null,
   "metadata": {},
   "outputs": [],
   "source": [
    "for i in range(len(NFO_data)):\n",
    "    if(NFO_data[i][\"tradingsymbol\"] and NFO_data[i][\"segment\"]==\"NFO-FUT\"):\n",
    "        Futures_data= pd.DataFrame([NFO_data[i] for i in range(len(NFO_data)) if  NFO_data[i][\"segment\"]==\"NFO-FUT\"])\n",
    "        Futures_data.loc[Futures_data[\"tradingsymbol\"].str.startswith(\"ICICI\")]    \n",
    "    \n",
    "    elif(NFO_data[i][\"tradingsymbol\"] and NFO_data[i][\"segment\"]==\"NFO-OPT\"):\n",
    "        Options_data= pd.DataFrame([NFO_data[i] for i in range(len(NFO_data)) if  NFO_data[i][\"segment\"]==\"NFO-OPT\"])\n"
   ]
  },
  {
   "cell_type": "code",
   "execution_count": null,
   "metadata": {},
   "outputs": [],
   "source": [
    "kite.margins('equity')"
   ]
  },
  {
   "cell_type": "code",
   "execution_count": null,
   "metadata": {},
   "outputs": [],
   "source": [
    "\n",
    "##Getting the tick data\n",
    "\n",
    "\n",
    "# Initialise.\n",
    "global kws\n",
    "kws = WebSocket(api_key, public_token, user_id)\n",
    "# Callback for tick reception.\n",
    "global df\n",
    "df=[]\n",
    "\n",
    "def on_tick(tick, ws):\n",
    "#    print(tick)\n",
    "    for _ in tick:\n",
    "        if dt.datetime.now().hour!=15 and dt.datetime.now().minute!=29:\n",
    "            \n",
    "\n",
    "            df.append(_)\n",
    "           # print(_)\n",
    "        else:\n",
    "            kws.disconnect()\n",
    "    \n",
    "\n",
    "# Callback for successful connection.\n",
    "def on_connect(ws):\n",
    "\t# Subscribe to a list of instrument_tokens (RELIANCE and ACC here).\n",
    "\tws.subscribe([738561])\n",
    "\n",
    "\t# Set RELIANCE to tick in `full` mode.\n",
    "\tws.set_mode(ws.MODE_FULL, [738561])\n",
    "\n",
    "# Assign the callbacks.\n",
    "kws.on_tick = on_tick\n",
    "kws.on_connect = on_connect\n",
    "\n",
    "# To enable auto reconnect WebSocket connection in case of network failure\n",
    "# - First param is interval between reconnection attempts in seconds.\n",
    "# Callback `on_reconnect` is triggered on every reconnection attempt. (Default interval is 5 seconds)\n",
    "# - Second param is maximum number of retries before the program exits triggering `on_noreconnect` calback. (Defaults to 50 attempts)\n",
    "# Note that you can also enable auto reconnection\t while initialising websocket.\n",
    "# Example `kws = WebSocket(\"your_api_key\", \"your_public_token\", \"logged_in_user_id\", reconnect=True, reconnect_interval=5, reconnect_tries=50)`\n",
    "kws.enable_reconnect(reconnect_interval=5, reconnect_tries=50)\n",
    "\n",
    "# Infinite loop on the main thread. Nothing after this will run.\n",
    "# You have to use the pre-defined callbacks to manage subscriptions.\n",
    "kws.connect()\n"
   ]
  },
  {
   "cell_type": "markdown",
   "metadata": {},
   "source": [
    "## Placing an order\n",
    "order_id=kite.order_place(tradingsymbol=\"SBIN\",quantity =1, order_type=\"MARKET\",exchange=\"NSE\",transaction_type=\"BUY\",product=\"NRML\")\n",
    "\n",
    "print(kite.orders(order_id))"
   ]
  },
  {
   "cell_type": "code",
   "execution_count": null,
   "metadata": {},
   "outputs": [],
   "source": [
    "df"
   ]
  },
  {
   "cell_type": "code",
   "execution_count": null,
   "metadata": {},
   "outputs": [],
   "source": [
    "df1=pd.DataFrame(df)"
   ]
  },
  {
   "cell_type": "code",
   "execution_count": null,
   "metadata": {},
   "outputs": [],
   "source": [
    "df1.to_csv(\"Tick_Z.csv\")"
   ]
  },
  {
   "cell_type": "code",
   "execution_count": null,
   "metadata": {},
   "outputs": [],
   "source": []
  }
 ],
 "metadata": {
  "kernelspec": {
   "display_name": "Python 3",
   "language": "python",
   "name": "python3"
  },
  "language_info": {
   "codemirror_mode": {
    "name": "ipython",
    "version": 3
   },
   "file_extension": ".py",
   "mimetype": "text/x-python",
   "name": "python",
   "nbconvert_exporter": "python",
   "pygments_lexer": "ipython3",
   "version": "3.6.5"
  }
 },
 "nbformat": 4,
 "nbformat_minor": 2
}
